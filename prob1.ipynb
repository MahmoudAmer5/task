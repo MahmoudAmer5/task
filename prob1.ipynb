{
 "cells": [
  {
   "cell_type": "code",
   "execution_count": 32,
   "id": "14dee06d",
   "metadata": {},
   "outputs": [
    {
     "name": "stdout",
     "output_type": "stream",
     "text": [
      "['m', 'y', 'na', 'me', 'i', 's', 'k', 'lly']\n"
     ]
    }
   ],
   "source": [
    "list1 = [\"m\",\"na\",\"i\",\"k\"]\n",
    "list2 = [\"y\", \"me\",\"s\",\"lly\"]\n",
    "list3 = []\n",
    "for i in range(0,4):\n",
    "    list3.append(list1[i])\n",
    "    list3.append(list2[i])\n",
    "print(list3)"
   ]
  },
  {
   "cell_type": "code",
   "execution_count": 4,
   "id": "f9b54c6f",
   "metadata": {},
   "outputs": [
    {
     "name": "stdout",
     "output_type": "stream",
     "text": [
      "['my', 'name', 'is', 'klly']\n"
     ]
    }
   ],
   "source": [
    "list1 = [\"m\",\"na\",\"i\",\"k\"]\n",
    "list2 = [\"y\", \"me\",\"s\",\"lly\"]\n",
    "list3 = []\n",
    "s = \"\"\n",
    "for i in range(0,4):\n",
    "    s = list1[i] + list2[i]\n",
    "    list3.append(s)\n",
    "print(list3)"
   ]
  },
  {
   "cell_type": "code",
   "execution_count": 27,
   "id": "eca65a19",
   "metadata": {},
   "outputs": [
    {
     "name": "stdout",
     "output_type": "stream",
     "text": [
      "{'Ten': '10', 'twenty': '20', 'thirty': '30'}\n"
     ]
    }
   ],
   "source": [
    "keys = [\"Ten\", \"twenty\", \"thirty\"]\n",
    "value = [\"10\", \"20\", \"30\"]\n",
    "di = {}\n",
    "for i in range(0,3):\n",
    "    di[keys[i]] = value[i]\n",
    "print(di)"
   ]
  },
  {
   "cell_type": "code",
   "execution_count": 51,
   "id": "2fa469be",
   "metadata": {},
   "outputs": [
    {
     "name": "stdout",
     "output_type": "stream",
     "text": [
      "{'red', 'green', 'yellow', 'blue', 'black', 'orange'}\n"
     ]
    }
   ],
   "source": [
    "simple_set = {\"yellow\", \"orange\",\"black\"}\n",
    "simple_list = [\"blue\",\"green\",\"red\"]\n",
    "for i in range(0,3):\n",
    "    simple_set.add(simple_list[i])\n",
    "print(simple_set)"
   ]
  },
  {
   "cell_type": "code",
   "execution_count": 79,
   "id": "2a182976",
   "metadata": {},
   "outputs": [
    {
     "name": "stdout",
     "output_type": "stream",
     "text": [
      "[50, 40, 30, 20, 10]\n"
     ]
    }
   ],
   "source": [
    "tuple1 = (10,20,30,40,50)\n",
    "tuple2 = ()\n",
    "li10 = [1,2,3,4,5]\n",
    "for i in range(1,6):\n",
    "    li10[i-1] = tuple1[-i]\n",
    "    tuple2 = li10\n",
    "print(tuple2)"
   ]
  },
  {
   "cell_type": "code",
   "execution_count": null,
   "id": "eeec945e",
   "metadata": {},
   "outputs": [],
   "source": []
  }
 ],
 "metadata": {
  "kernelspec": {
   "display_name": "Python 3",
   "language": "python",
   "name": "python3"
  },
  "language_info": {
   "codemirror_mode": {
    "name": "ipython",
    "version": 3
   },
   "file_extension": ".py",
   "mimetype": "text/x-python",
   "name": "python",
   "nbconvert_exporter": "python",
   "pygments_lexer": "ipython3",
   "version": "3.8.8"
  }
 },
 "nbformat": 4,
 "nbformat_minor": 5
}
